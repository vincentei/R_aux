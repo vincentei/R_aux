{
  "cells": [
    {
      "metadata": {
        "_uuid": "f7171bbb491528e81ae087ecd8fb77cc1ce1d98a",
        "_execution_state": "idle",
        "trusted": true,
        "_kg_hide-input": false
      },
      "cell_type": "code",
      "source": "# This R environment comes with all of CRAN preinstalled, as well as many other helpful packages\n# The environment is defined by the kaggle/rstats docker image: https://github.com/kaggle/docker-rstats\n# For example, here's several helpful packages to load in \n\nlibrary(ggplot2) # Data visualization\nlibrary(readr) # CSV file I/O, e.g. the read_csv function\nlibrary(lubridate)\nlibrary(magrittr)\n# Input data files are available in the \"../input/\" directory.\n# For example, running this (by clicking run or pressing Shift+Enter) will list the files in the input directory\n\nsystem(\"ls ../input\")\n\n# Any results you write to the current directory are saved as output.",
      "execution_count": 31,
      "outputs": []
    },
    {
      "metadata": {
        "_uuid": "58c36d557ce264d665c418ad389de5a04ae36f3a"
      },
      "cell_type": "markdown",
      "source": "## Vector"
    },
    {
      "metadata": {
        "trusted": true,
        "_uuid": "0a1460ea6be61093b20cdabd66274813242af792"
      },
      "cell_type": "code",
      "source": "# create vector\nprice = c(10,6,5)\nprint(price)\nprint(class(price))",
      "execution_count": 17,
      "outputs": []
    },
    {
      "metadata": {
        "trusted": true,
        "_uuid": "e4256fc0f972698cd7097ec4a716f3af1ecc62d8"
      },
      "cell_type": "code",
      "source": "# vector with strings\nname = c('apple','banana','orange')\nprint(name)\nprint(class(name))",
      "execution_count": 19,
      "outputs": []
    },
    {
      "metadata": {
        "_uuid": "411ef362f0aa265be6245a6c1cfe7ff96bc84da5"
      },
      "cell_type": "markdown",
      "source": "## Dataframe"
    },
    {
      "metadata": {
        "trusted": true,
        "_uuid": "962725141c8129e0caa5226386d50875304664b8"
      },
      "cell_type": "code",
      "source": "# create df from vectors\nname = c('apple','banana','orange')\nprice = c(10,6,5)\ndf <- data.frame(name = name,price = price)\ndf",
      "execution_count": 22,
      "outputs": []
    },
    {
      "metadata": {
        "trusted": true,
        "_uuid": "c2e2ea34a5066da604a98f03dea775076690e166"
      },
      "cell_type": "code",
      "source": "# get columns names of df\nnames(df)",
      "execution_count": 23,
      "outputs": []
    },
    {
      "metadata": {
        "trusted": true,
        "_uuid": "e43f7d870487e41be4cbd0920f6352f060246863"
      },
      "cell_type": "code",
      "source": "# rename columns\ndf <- data.frame(name = c('apple','banana','orange'),price = c(10,6,5))\nnames(df) <- c(\"name2\", \"price2\")\ndf",
      "execution_count": 36,
      "outputs": []
    },
    {
      "metadata": {
        "trusted": true,
        "_uuid": "6cf8ea28f8cd3e863de782b44834b08c90e1b69e"
      },
      "cell_type": "code",
      "source": "  # remove some columns\ndf <- data.frame(name = c('apple','banana','orange'),price = c(10,6,5))\ndf<- subset(df,select=-c(price))\ndf",
      "execution_count": 37,
      "outputs": []
    },
    {
      "metadata": {
        "_uuid": "5f52b1c57f44bca45704e7d3ff3933f5886dda6f"
      },
      "cell_type": "markdown",
      "source": "## Dates"
    },
    {
      "metadata": {
        "trusted": true,
        "_uuid": "1fbd6e1051845d4cad4336b683aed92723ffedfb"
      },
      "cell_type": "code",
      "source": "# string to date\nmydate = '2014-06-28 09:30'\nmydate_local <- as.POSIXct(mydate,tz='Europe/Amsterdam')\nprint(mydate_local)",
      "execution_count": 33,
      "outputs": []
    },
    {
      "metadata": {
        "trusted": true,
        "_uuid": "6ea5452997bc273a54d34d05967757137650ed17"
      },
      "cell_type": "code",
      "source": "# format date\nmydate_local <- as.POSIXct('2014-06-28 09:30',tz='Europe/Amsterdam')\na = mydate_local %>% strftime('%Y%m%d%H%M',tz = 'Europe/Amsterdam')\nb = strftime(mydate_local,format = '%Y%m%d%H%M',tz = 'Europe/Amsterdam')\nprint(a)\nprint(b)",
      "execution_count": 41,
      "outputs": []
    },
    {
      "metadata": {
        "trusted": true,
        "_uuid": "b02c5319e6d005df51ea1caebe9d4fb551ca3bab"
      },
      "cell_type": "code",
      "source": "# convert local to utc\nmydate_local <- as.POSIXct('2014-06-28 09:30',tz='Europe/Amsterdam')\nmydate_utc <- mydate_local %>% with_tz('UTC')\nprint(mydate_utc)",
      "execution_count": 44,
      "outputs": []
    },
    {
      "metadata": {
        "trusted": true,
        "_uuid": "fda011f02f1638d512d417c705347d2696011ac0"
      },
      "cell_type": "code",
      "source": "",
      "execution_count": null,
      "outputs": []
    }
  ],
  "metadata": {
    "kernelspec": {
      "display_name": "R",
      "language": "R",
      "name": "ir"
    },
    "language_info": {
      "mimetype": "text/x-r-source",
      "name": "R",
      "pygments_lexer": "r",
      "version": "3.4.2",
      "file_extension": ".r",
      "codemirror_mode": "r"
    }
  },
  "nbformat": 4,
  "nbformat_minor": 1
}