{
 "cells": [
  {
   "cell_type": "code",
   "execution_count": 11,
   "metadata": {
    "_execution_state": "idle",
    "_kg_hide-input": false,
    "_uuid": "f7171bbb491528e81ae087ecd8fb77cc1ce1d98a"
   },
   "outputs": [
    {
     "name": "stderr",
     "output_type": "stream",
     "text": [
      "\n",
      "Attaching package: 'lubridate'\n",
      "\n",
      "The following object is masked from 'package:base':\n",
      "\n",
      "    date\n",
      "\n",
      "Warning message:\n",
      "\"running command 'ls ../input' had status 127\""
     ]
    }
   ],
   "source": [
    "# This R environment comes with all of CRAN preinstalled, as well as many other helpful packages\n",
    "# The environment is defined by the kaggle/rstats docker image: https://github.com/kaggle/docker-rstats\n",
    "# For example, here's several helpful packages to load in \n",
    "\n",
    "library(ggplot2) # Data visualization\n",
    "#library(readr) # CSV file I/O, e.g. the read_csv function\n",
    "library(lubridate)\n",
    "library(magrittr)\n",
    "# Input data files are available in the \"../input/\" directory.\n",
    "# For example, running this (by clicking run or pressing Shift+Enter) will list the files in the input directory\n",
    "\n",
    "system(\"ls ../input\")\n",
    "\n",
    "# Any results you write to the current directory are saved as output."
   ]
  },
  {
   "cell_type": "markdown",
   "metadata": {
    "_uuid": "58c36d557ce264d665c418ad389de5a04ae36f3a"
   },
   "source": [
    "## Vector"
   ]
  },
  {
   "cell_type": "code",
   "execution_count": 12,
   "metadata": {
    "_uuid": "0a1460ea6be61093b20cdabd66274813242af792"
   },
   "outputs": [
    {
     "name": "stdout",
     "output_type": "stream",
     "text": [
      "[1] 10  6  5\n",
      "[1] \"numeric\"\n"
     ]
    }
   ],
   "source": [
    "# create vector\n",
    "price = c(10,6,5)\n",
    "print(price)\n",
    "print(class(price))"
   ]
  },
  {
   "cell_type": "code",
   "execution_count": 13,
   "metadata": {
    "_uuid": "e4256fc0f972698cd7097ec4a716f3af1ecc62d8"
   },
   "outputs": [
    {
     "name": "stdout",
     "output_type": "stream",
     "text": [
      "[1] \"apple\"  \"banana\" \"orange\"\n",
      "[1] \"character\"\n"
     ]
    }
   ],
   "source": [
    "# vector with strings\n",
    "name = c('apple','banana','orange')\n",
    "print(name)\n",
    "print(class(name))"
   ]
  },
  {
   "cell_type": "markdown",
   "metadata": {
    "_uuid": "411ef362f0aa265be6245a6c1cfe7ff96bc84da5"
   },
   "source": [
    "## Dataframe"
   ]
  },
  {
   "cell_type": "code",
   "execution_count": 14,
   "metadata": {
    "_uuid": "962725141c8129e0caa5226386d50875304664b8"
   },
   "outputs": [
    {
     "data": {
      "text/html": [
       "<table>\n",
       "<thead><tr><th scope=col>name</th><th scope=col>price</th></tr></thead>\n",
       "<tbody>\n",
       "\t<tr><td>apple </td><td>10    </td></tr>\n",
       "\t<tr><td>banana</td><td> 6    </td></tr>\n",
       "\t<tr><td>orange</td><td> 5    </td></tr>\n",
       "</tbody>\n",
       "</table>\n"
      ],
      "text/latex": [
       "\\begin{tabular}{r|ll}\n",
       " name & price\\\\\n",
       "\\hline\n",
       "\t apple  & 10    \\\\\n",
       "\t banana &  6    \\\\\n",
       "\t orange &  5    \\\\\n",
       "\\end{tabular}\n"
      ],
      "text/markdown": [
       "\n",
       "name | price | \n",
       "|---|---|---|\n",
       "| apple  | 10     | \n",
       "| banana |  6     | \n",
       "| orange |  5     | \n",
       "\n",
       "\n"
      ],
      "text/plain": [
       "  name   price\n",
       "1 apple  10   \n",
       "2 banana  6   \n",
       "3 orange  5   "
      ]
     },
     "metadata": {},
     "output_type": "display_data"
    }
   ],
   "source": [
    "# create df from vectors\n",
    "name = c('apple','banana','orange')\n",
    "price = c(10,6,5)\n",
    "df <- data.frame(name = name,price = price)\n",
    "df"
   ]
  },
  {
   "cell_type": "code",
   "execution_count": 15,
   "metadata": {
    "_uuid": "c2e2ea34a5066da604a98f03dea775076690e166"
   },
   "outputs": [
    {
     "data": {
      "text/html": [
       "<ol class=list-inline>\n",
       "\t<li>'name'</li>\n",
       "\t<li>'price'</li>\n",
       "</ol>\n"
      ],
      "text/latex": [
       "\\begin{enumerate*}\n",
       "\\item 'name'\n",
       "\\item 'price'\n",
       "\\end{enumerate*}\n"
      ],
      "text/markdown": [
       "1. 'name'\n",
       "2. 'price'\n",
       "\n",
       "\n"
      ],
      "text/plain": [
       "[1] \"name\"  \"price\""
      ]
     },
     "metadata": {},
     "output_type": "display_data"
    }
   ],
   "source": [
    "# get columns names of df\n",
    "names(df)"
   ]
  },
  {
   "cell_type": "code",
   "execution_count": 16,
   "metadata": {
    "_uuid": "e43f7d870487e41be4cbd0920f6352f060246863"
   },
   "outputs": [
    {
     "data": {
      "text/html": [
       "<table>\n",
       "<thead><tr><th scope=col>name2</th><th scope=col>price2</th></tr></thead>\n",
       "<tbody>\n",
       "\t<tr><td>apple </td><td>10    </td></tr>\n",
       "\t<tr><td>banana</td><td> 6    </td></tr>\n",
       "\t<tr><td>orange</td><td> 5    </td></tr>\n",
       "</tbody>\n",
       "</table>\n"
      ],
      "text/latex": [
       "\\begin{tabular}{r|ll}\n",
       " name2 & price2\\\\\n",
       "\\hline\n",
       "\t apple  & 10    \\\\\n",
       "\t banana &  6    \\\\\n",
       "\t orange &  5    \\\\\n",
       "\\end{tabular}\n"
      ],
      "text/markdown": [
       "\n",
       "name2 | price2 | \n",
       "|---|---|---|\n",
       "| apple  | 10     | \n",
       "| banana |  6     | \n",
       "| orange |  5     | \n",
       "\n",
       "\n"
      ],
      "text/plain": [
       "  name2  price2\n",
       "1 apple  10    \n",
       "2 banana  6    \n",
       "3 orange  5    "
      ]
     },
     "metadata": {},
     "output_type": "display_data"
    }
   ],
   "source": [
    "# rename columns\n",
    "df <- data.frame(name = c('apple','banana','orange'),price = c(10,6,5))\n",
    "names(df) <- c(\"name2\", \"price2\")\n",
    "df"
   ]
  },
  {
   "cell_type": "code",
   "execution_count": 17,
   "metadata": {
    "_uuid": "6cf8ea28f8cd3e863de782b44834b08c90e1b69e"
   },
   "outputs": [
    {
     "data": {
      "text/html": [
       "<table>\n",
       "<thead><tr><th scope=col>name</th></tr></thead>\n",
       "<tbody>\n",
       "\t<tr><td>apple </td></tr>\n",
       "\t<tr><td>banana</td></tr>\n",
       "\t<tr><td>orange</td></tr>\n",
       "</tbody>\n",
       "</table>\n"
      ],
      "text/latex": [
       "\\begin{tabular}{r|l}\n",
       " name\\\\\n",
       "\\hline\n",
       "\t apple \\\\\n",
       "\t banana\\\\\n",
       "\t orange\\\\\n",
       "\\end{tabular}\n"
      ],
      "text/markdown": [
       "\n",
       "name | \n",
       "|---|---|---|\n",
       "| apple  | \n",
       "| banana | \n",
       "| orange | \n",
       "\n",
       "\n"
      ],
      "text/plain": [
       "  name  \n",
       "1 apple \n",
       "2 banana\n",
       "3 orange"
      ]
     },
     "metadata": {},
     "output_type": "display_data"
    }
   ],
   "source": [
    "  # remove some columns\n",
    "df <- data.frame(name = c('apple','banana','orange'),price = c(10,6,5))\n",
    "df<- subset(df,select=-c(price))\n",
    "df"
   ]
  },
  {
   "cell_type": "markdown",
   "metadata": {
    "_uuid": "5f52b1c57f44bca45704e7d3ff3933f5886dda6f"
   },
   "source": [
    "## Dates"
   ]
  },
  {
   "cell_type": "code",
   "execution_count": 18,
   "metadata": {
    "_uuid": "1fbd6e1051845d4cad4336b683aed92723ffedfb"
   },
   "outputs": [
    {
     "name": "stdout",
     "output_type": "stream",
     "text": [
      "[1] \"2014-06-28 09:30:00 CEST\"\n"
     ]
    }
   ],
   "source": [
    "# string to date\n",
    "mydate = '2014-06-28 09:30'\n",
    "mydate_local <- as.POSIXct(mydate,tz='Europe/Amsterdam')\n",
    "print(mydate_local)"
   ]
  },
  {
   "cell_type": "code",
   "execution_count": 19,
   "metadata": {
    "_uuid": "6ea5452997bc273a54d34d05967757137650ed17"
   },
   "outputs": [
    {
     "name": "stdout",
     "output_type": "stream",
     "text": [
      "[1] \"201406280930\"\n",
      "[1] \"201406280930\"\n"
     ]
    }
   ],
   "source": [
    "# format date\n",
    "mydate_local <- as.POSIXct('2014-06-28 09:30',tz='Europe/Amsterdam')\n",
    "a = mydate_local %>% strftime('%Y%m%d%H%M',tz = 'Europe/Amsterdam')\n",
    "b = strftime(mydate_local,format = '%Y%m%d%H%M',tz = 'Europe/Amsterdam')\n",
    "print(a)\n",
    "print(b)"
   ]
  },
  {
   "cell_type": "code",
   "execution_count": 20,
   "metadata": {
    "_uuid": "b02c5319e6d005df51ea1caebe9d4fb551ca3bab"
   },
   "outputs": [
    {
     "name": "stdout",
     "output_type": "stream",
     "text": [
      "[1] \"2014-06-28 07:30:00 UTC\"\n"
     ]
    }
   ],
   "source": [
    "# convert local to utc\n",
    "mydate_local <- as.POSIXct('2014-06-28 09:30',tz='Europe/Amsterdam')\n",
    "mydate_utc <- mydate_local %>% with_tz('UTC')\n",
    "print(mydate_utc)"
   ]
  },
  {
   "cell_type": "code",
   "execution_count": null,
   "metadata": {
    "_uuid": "fda011f02f1638d512d417c705347d2696011ac0",
    "collapsed": true
   },
   "outputs": [],
   "source": []
  }
 ],
 "metadata": {
  "kernelspec": {
   "display_name": "R",
   "language": "R",
   "name": "ir"
  },
  "language_info": {
   "codemirror_mode": "r",
   "file_extension": ".r",
   "mimetype": "text/x-r-source",
   "name": "R",
   "pygments_lexer": "r",
   "version": "3.4.3"
  }
 },
 "nbformat": 4,
 "nbformat_minor": 1
}
