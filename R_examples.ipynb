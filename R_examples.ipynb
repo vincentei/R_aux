{
 "cells": [
  {
   "cell_type": "code",
   "execution_count": 3,
   "metadata": {
    "_execution_state": "idle",
    "_kg_hide-input": false,
    "_uuid": "f7171bbb491528e81ae087ecd8fb77cc1ce1d98a"
   },
   "outputs": [
    {
     "name": "stderr",
     "output_type": "stream",
     "text": [
      "Warning message:\n",
      "\"running command 'ls ../input' had status 127\""
     ]
    }
   ],
   "source": [
    "# This R environment comes with all of CRAN preinstalled, as well as many other helpful packages\n",
    "# The environment is defined by the kaggle/rstats docker image: https://github.com/kaggle/docker-rstats\n",
    "# For example, here's several helpful packages to load in \n",
    "\n",
    "library(ggplot2) # Data visualization\n",
    "#library(readr) # CSV file I/O, e.g. the read_csv function\n",
    "library(lubridate)\n",
    "library(magrittr)\n",
    "library(dplyr)\n",
    "# Input data files are available in the \"../input/\" directory.\n",
    "# For example, running this (by clicking run or pressing Shift+Enter) will list the files in the input directory\n",
    "\n",
    "system(\"ls ../input\")\n",
    "\n",
    "# Any results you write to the current directory are saved as output."
   ]
  },
  {
   "cell_type": "markdown",
   "metadata": {
    "_uuid": "58c36d557ce264d665c418ad389de5a04ae36f3a"
   },
   "source": [
    "# Vector"
   ]
  },
  {
   "cell_type": "code",
   "execution_count": 4,
   "metadata": {
    "_uuid": "0a1460ea6be61093b20cdabd66274813242af792"
   },
   "outputs": [
    {
     "name": "stdout",
     "output_type": "stream",
     "text": [
      "[1] 10  6  5\n",
      "[1] \"numeric\"\n"
     ]
    }
   ],
   "source": [
    "# create vector\n",
    "price = c(10,6,5)\n",
    "print(price)\n",
    "print(class(price))"
   ]
  },
  {
   "cell_type": "code",
   "execution_count": 5,
   "metadata": {
    "_uuid": "e4256fc0f972698cd7097ec4a716f3af1ecc62d8"
   },
   "outputs": [
    {
     "name": "stdout",
     "output_type": "stream",
     "text": [
      "[1] \"apple\"  \"banana\" \"orange\"\n",
      "[1] \"character\"\n"
     ]
    }
   ],
   "source": [
    "# vector with strings\n",
    "name = c('apple','banana','orange')\n",
    "print(name)\n",
    "print(class(name))"
   ]
  },
  {
   "cell_type": "markdown",
   "metadata": {
    "_uuid": "bbe94d8e20fa053e5887aa17a3edea336e8aa504"
   },
   "source": [
    "# List"
   ]
  },
  {
   "cell_type": "code",
   "execution_count": 6,
   "metadata": {
    "_uuid": "4d55eb54c0c00cd56da51672e133111a6639565d"
   },
   "outputs": [
    {
     "name": "stdout",
     "output_type": "stream",
     "text": [
      "[[1]]\n",
      "[1] 5 3 8\n",
      "\n",
      "[1] \"list\"\n"
     ]
    }
   ],
   "source": [
    "# defining a list\n",
    "a = list(c(5,3,8))\n",
    "print(a)\n",
    "print(class(a))"
   ]
  },
  {
   "cell_type": "code",
   "execution_count": 7,
   "metadata": {
    "_uuid": "5587d2657dd253567a19fd792212ab402963599c"
   },
   "outputs": [
    {
     "data": {
      "text/html": [
       "4"
      ],
      "text/latex": [
       "4"
      ],
      "text/markdown": [
       "4"
      ],
      "text/plain": [
       "[1] 4"
      ]
     },
     "metadata": {},
     "output_type": "display_data"
    }
   ],
   "source": [
    "a = list(c(1,3,4))\n",
    "a[[1]][3]"
   ]
  },
  {
   "cell_type": "code",
   "execution_count": 8,
   "metadata": {
    "_uuid": "fe572c6241f1460ab866d4429a122a217a5443af"
   },
   "outputs": [
    {
     "data": {
      "text/html": [
       "22"
      ],
      "text/latex": [
       "22"
      ],
      "text/markdown": [
       "22"
      ],
      "text/plain": [
       "[1] 22"
      ]
     },
     "metadata": {},
     "output_type": "display_data"
    }
   ],
   "source": [
    "# some kind of dictionary\n",
    "a = list('apple' = 22,\n",
    "        'orange' = 42)\n",
    "a[['apple']]"
   ]
  },
  {
   "cell_type": "code",
   "execution_count": 9,
   "metadata": {
    "_uuid": "48b1af3d1f5ed082380d61e28e7bae194dd4ffad",
    "collapsed": true
   },
   "outputs": [],
   "source": [
    "# some kind of dictionary\n",
    "cfg.MODEL <- list(\n",
    "    '1' = list('in.w'='w', 'in.lags'=c(1, 2, 7, 14, 21)),\n",
    "    '2' = list('in.w'='w', 'in.lags'=c(2, 3, 7, 14, 21)),\n",
    "    '99' = list('in.w'='no.w', 'in.lags'=c(3, 4, 7, 14, 21)))"
   ]
  },
  {
   "cell_type": "code",
   "execution_count": 10,
   "metadata": {
    "_uuid": "a01818b5a2a430060d05f9d47a0f20d65bf668ce"
   },
   "outputs": [
    {
     "data": {
      "text/html": [
       "'no.w'"
      ],
      "text/latex": [
       "'no.w'"
      ],
      "text/markdown": [
       "'no.w'"
      ],
      "text/plain": [
       "[1] \"no.w\""
      ]
     },
     "metadata": {},
     "output_type": "display_data"
    },
    {
     "data": {
      "text/html": [
       "<ol class=list-inline>\n",
       "\t<li>3</li>\n",
       "\t<li>4</li>\n",
       "\t<li>7</li>\n",
       "\t<li>14</li>\n",
       "\t<li>21</li>\n",
       "</ol>\n"
      ],
      "text/latex": [
       "\\begin{enumerate*}\n",
       "\\item 3\n",
       "\\item 4\n",
       "\\item 7\n",
       "\\item 14\n",
       "\\item 21\n",
       "\\end{enumerate*}\n"
      ],
      "text/markdown": [
       "1. 3\n",
       "2. 4\n",
       "3. 7\n",
       "4. 14\n",
       "5. 21\n",
       "\n",
       "\n"
      ],
      "text/plain": [
       "[1]  3  4  7 14 21"
      ]
     },
     "metadata": {},
     "output_type": "display_data"
    }
   ],
   "source": [
    "# accessing the data\n",
    "cfg.MODEL[['99']]$in.w\n",
    "cfg.MODEL[['99']]$in.lags"
   ]
  },
  {
   "cell_type": "code",
   "execution_count": 11,
   "metadata": {
    "_uuid": "45e616d405b4414f8c7914397dd879bfdc0b5a46"
   },
   "outputs": [
    {
     "data": {
      "text/html": [
       "3"
      ],
      "text/latex": [
       "3"
      ],
      "text/markdown": [
       "3"
      ],
      "text/plain": [
       "[1] 3"
      ]
     },
     "metadata": {},
     "output_type": "display_data"
    },
    {
     "data": {
      "text/html": [
       "9"
      ],
      "text/latex": [
       "9"
      ],
      "text/markdown": [
       "9"
      ],
      "text/plain": [
       "[1] 9"
      ]
     },
     "metadata": {},
     "output_type": "display_data"
    },
    {
     "data": {
      "text/html": [
       "'soep'"
      ],
      "text/latex": [
       "'soep'"
      ],
      "text/markdown": [
       "'soep'"
      ],
      "text/plain": [
       "[1] \"soep\""
      ]
     },
     "metadata": {},
     "output_type": "display_data"
    }
   ],
   "source": [
    "# accessing element of a list\n",
    "a = list(c(3,4,9),c(9,77),c('hoi','soep'))\n",
    "a[[1]][1]\n",
    "a[[2]][1]\n",
    "a[[3]][2]"
   ]
  },
  {
   "cell_type": "markdown",
   "metadata": {
    "_uuid": "411ef362f0aa265be6245a6c1cfe7ff96bc84da5"
   },
   "source": [
    "# Dataframe"
   ]
  },
  {
   "cell_type": "code",
   "execution_count": 12,
   "metadata": {
    "_uuid": "962725141c8129e0caa5226386d50875304664b8"
   },
   "outputs": [
    {
     "data": {
      "text/html": [
       "<table>\n",
       "<thead><tr><th scope=col>name</th><th scope=col>price</th></tr></thead>\n",
       "<tbody>\n",
       "\t<tr><td>apple </td><td>10    </td></tr>\n",
       "\t<tr><td>banana</td><td> 6    </td></tr>\n",
       "\t<tr><td>orange</td><td> 5    </td></tr>\n",
       "</tbody>\n",
       "</table>\n"
      ],
      "text/latex": [
       "\\begin{tabular}{r|ll}\n",
       " name & price\\\\\n",
       "\\hline\n",
       "\t apple  & 10    \\\\\n",
       "\t banana &  6    \\\\\n",
       "\t orange &  5    \\\\\n",
       "\\end{tabular}\n"
      ],
      "text/markdown": [
       "\n",
       "name | price | \n",
       "|---|---|---|\n",
       "| apple  | 10     | \n",
       "| banana |  6     | \n",
       "| orange |  5     | \n",
       "\n",
       "\n"
      ],
      "text/plain": [
       "  name   price\n",
       "1 apple  10   \n",
       "2 banana  6   \n",
       "3 orange  5   "
      ]
     },
     "metadata": {},
     "output_type": "display_data"
    }
   ],
   "source": [
    "# create df from vectors\n",
    "name = c('apple','banana','orange')\n",
    "price = c(10,6,5)\n",
    "df <- data.frame(name = name,price = price)\n",
    "df"
   ]
  },
  {
   "cell_type": "code",
   "execution_count": 13,
   "metadata": {
    "_uuid": "c2e2ea34a5066da604a98f03dea775076690e166"
   },
   "outputs": [
    {
     "data": {
      "text/html": [
       "<ol class=list-inline>\n",
       "\t<li>'name'</li>\n",
       "\t<li>'price'</li>\n",
       "</ol>\n"
      ],
      "text/latex": [
       "\\begin{enumerate*}\n",
       "\\item 'name'\n",
       "\\item 'price'\n",
       "\\end{enumerate*}\n"
      ],
      "text/markdown": [
       "1. 'name'\n",
       "2. 'price'\n",
       "\n",
       "\n"
      ],
      "text/plain": [
       "[1] \"name\"  \"price\""
      ]
     },
     "metadata": {},
     "output_type": "display_data"
    }
   ],
   "source": [
    "# get columns names of df\n",
    "df <- data.frame(name = c('apple','banana','orange'),price = c(10,6,5))\n",
    "names(df)"
   ]
  },
  {
   "cell_type": "code",
   "execution_count": 14,
   "metadata": {
    "_uuid": "e43f7d870487e41be4cbd0920f6352f060246863"
   },
   "outputs": [
    {
     "data": {
      "text/html": [
       "<table>\n",
       "<thead><tr><th scope=col>name2</th><th scope=col>price2</th></tr></thead>\n",
       "<tbody>\n",
       "\t<tr><td>apple </td><td>10    </td></tr>\n",
       "\t<tr><td>banana</td><td> 6    </td></tr>\n",
       "\t<tr><td>orange</td><td> 5    </td></tr>\n",
       "</tbody>\n",
       "</table>\n"
      ],
      "text/latex": [
       "\\begin{tabular}{r|ll}\n",
       " name2 & price2\\\\\n",
       "\\hline\n",
       "\t apple  & 10    \\\\\n",
       "\t banana &  6    \\\\\n",
       "\t orange &  5    \\\\\n",
       "\\end{tabular}\n"
      ],
      "text/markdown": [
       "\n",
       "name2 | price2 | \n",
       "|---|---|---|\n",
       "| apple  | 10     | \n",
       "| banana |  6     | \n",
       "| orange |  5     | \n",
       "\n",
       "\n"
      ],
      "text/plain": [
       "  name2  price2\n",
       "1 apple  10    \n",
       "2 banana  6    \n",
       "3 orange  5    "
      ]
     },
     "metadata": {},
     "output_type": "display_data"
    }
   ],
   "source": [
    "# rename columns\n",
    "df <- data.frame(name = c('apple','banana','orange'),price = c(10,6,5))\n",
    "names(df) <- c(\"name2\", \"price2\")\n",
    "df"
   ]
  },
  {
   "cell_type": "code",
   "execution_count": 15,
   "metadata": {
    "_uuid": "6cf8ea28f8cd3e863de782b44834b08c90e1b69e"
   },
   "outputs": [
    {
     "data": {
      "text/html": [
       "<table>\n",
       "<thead><tr><th scope=col>name</th></tr></thead>\n",
       "<tbody>\n",
       "\t<tr><td>apple </td></tr>\n",
       "\t<tr><td>banana</td></tr>\n",
       "\t<tr><td>orange</td></tr>\n",
       "</tbody>\n",
       "</table>\n"
      ],
      "text/latex": [
       "\\begin{tabular}{r|l}\n",
       " name\\\\\n",
       "\\hline\n",
       "\t apple \\\\\n",
       "\t banana\\\\\n",
       "\t orange\\\\\n",
       "\\end{tabular}\n"
      ],
      "text/markdown": [
       "\n",
       "name | \n",
       "|---|---|---|\n",
       "| apple  | \n",
       "| banana | \n",
       "| orange | \n",
       "\n",
       "\n"
      ],
      "text/plain": [
       "  name  \n",
       "1 apple \n",
       "2 banana\n",
       "3 orange"
      ]
     },
     "metadata": {},
     "output_type": "display_data"
    }
   ],
   "source": [
    "# remove some columns\n",
    "df <- data.frame(name = c('apple','banana','orange'),price = c(10,6,5))\n",
    "df<- subset(df,select=-c(price))\n",
    "df"
   ]
  },
  {
   "cell_type": "markdown",
   "metadata": {
    "_uuid": "137293668171b99ffbc8c2270c245691d4b011d3"
   },
   "source": [
    "## Filter"
   ]
  },
  {
   "cell_type": "markdown",
   "metadata": {
    "_uuid": "49508470451938a2b4f2a3dcde5f2cd301588fde"
   },
   "source": [
    "The filter() function can be used similarly to subset() to select a set of rows from an original data.frame according to some conditioning statement. As with subset(), filter() returns an object that maintains a list of the original levels whether those levels exist in the new data.frame or not. Use droplevels() to restrict the levels to only those that exist in the data.frame\n",
    "\n",
    " Use filter() find rows/cases where conditions are true. \n",
    " Unlike base subsetting with [, rows where the condition evaluates to NA are dropped."
   ]
  },
  {
   "cell_type": "code",
   "execution_count": 16,
   "metadata": {
    "_uuid": "4df941e8c2c13927e469b36b18d5141454996989"
   },
   "outputs": [
    {
     "data": {
      "text/html": [
       "<table>\n",
       "<thead><tr><th scope=col>name</th><th scope=col>price</th></tr></thead>\n",
       "<tbody>\n",
       "\t<tr><td>banana</td><td>6     </td></tr>\n",
       "</tbody>\n",
       "</table>\n"
      ],
      "text/latex": [
       "\\begin{tabular}{r|ll}\n",
       " name & price\\\\\n",
       "\\hline\n",
       "\t banana & 6     \\\\\n",
       "\\end{tabular}\n"
      ],
      "text/markdown": [
       "\n",
       "name | price | \n",
       "|---|\n",
       "| banana | 6      | \n",
       "\n",
       "\n"
      ],
      "text/plain": [
       "  name   price\n",
       "1 banana 6    "
      ]
     },
     "metadata": {},
     "output_type": "display_data"
    }
   ],
   "source": [
    "# give rows where price is below 10 (CTRL + SHIFT + M)\n",
    "df <- data.frame(name = c('apple','banana','orange'),price = c(10,6,5))\n",
    "a <-df %>% filter(price < 10 & name != 'orange')\n",
    "a"
   ]
  },
  {
   "cell_type": "code",
   "execution_count": 17,
   "metadata": {
    "_uuid": "5645e21664dd9885d88a30c024c8768322251203"
   },
   "outputs": [
    {
     "data": {
      "text/html": [
       "<table>\n",
       "<thead><tr><th></th><th scope=col>name</th><th scope=col>price</th></tr></thead>\n",
       "<tbody>\n",
       "\t<tr><th scope=row>2</th><td>banana</td><td>6     </td></tr>\n",
       "</tbody>\n",
       "</table>\n"
      ],
      "text/latex": [
       "\\begin{tabular}{r|ll}\n",
       "  & name & price\\\\\n",
       "\\hline\n",
       "\t2 & banana & 6     \\\\\n",
       "\\end{tabular}\n"
      ],
      "text/markdown": [
       "\n",
       "| <!--/--> | name | price | \n",
       "|---|\n",
       "| 2 | banana | 6      | \n",
       "\n",
       "\n"
      ],
      "text/plain": [
       "  name   price\n",
       "2 banana 6    "
      ]
     },
     "metadata": {},
     "output_type": "display_data"
    }
   ],
   "source": [
    "# alternative would be\n",
    "df <- data.frame(name = c('apple','banana','orange'),price = c(10,6,5))\n",
    "idx = df$price < 10 & df$name != 'orange'\n",
    "a = df[idx,]\n",
    "a"
   ]
  },
  {
   "cell_type": "markdown",
   "metadata": {
    "_uuid": "37056e379f82e6e07687b6a0b008fd6fec48a9f1"
   },
   "source": [
    "## Other functions"
   ]
  },
  {
   "cell_type": "markdown",
   "metadata": {
    "_uuid": "5b5400226340af89bf9f6678d916eadcef80d301"
   },
   "source": [
    "### is.na()"
   ]
  },
  {
   "cell_type": "code",
   "execution_count": 18,
   "metadata": {
    "_uuid": "59b7dd571d6ab9b6ea15efda17350a5aaa7cfa74"
   },
   "outputs": [
    {
     "data": {
      "text/html": [
       "<ol class=list-inline>\n",
       "\t<li>FALSE</li>\n",
       "\t<li>TRUE</li>\n",
       "\t<li>FALSE</li>\n",
       "</ol>\n"
      ],
      "text/latex": [
       "\\begin{enumerate*}\n",
       "\\item FALSE\n",
       "\\item TRUE\n",
       "\\item FALSE\n",
       "\\end{enumerate*}\n"
      ],
      "text/markdown": [
       "1. FALSE\n",
       "2. TRUE\n",
       "3. FALSE\n",
       "\n",
       "\n"
      ],
      "text/plain": [
       "[1] FALSE  TRUE FALSE"
      ]
     },
     "metadata": {},
     "output_type": "display_data"
    }
   ],
   "source": [
    "# check for NA's in vector\n",
    "a <- c(2,NA,4)\n",
    "is.na(a)"
   ]
  },
  {
   "cell_type": "code",
   "execution_count": 19,
   "metadata": {
    "_uuid": "e926c46feb6c063f8290e255f5c62e539098b628"
   },
   "outputs": [
    {
     "data": {
      "text/html": [
       "<table>\n",
       "<thead><tr><th scope=col>weight</th><th scope=col>price</th></tr></thead>\n",
       "<tbody>\n",
       "\t<tr><td>FALSE</td><td>FALSE</td></tr>\n",
       "\t<tr><td>FALSE</td><td> TRUE</td></tr>\n",
       "\t<tr><td> TRUE</td><td>FALSE</td></tr>\n",
       "</tbody>\n",
       "</table>\n"
      ],
      "text/latex": [
       "\\begin{tabular}{ll}\n",
       " weight & price\\\\\n",
       "\\hline\n",
       "\t FALSE & FALSE\\\\\n",
       "\t FALSE &  TRUE\\\\\n",
       "\t  TRUE & FALSE\\\\\n",
       "\\end{tabular}\n"
      ],
      "text/markdown": [
       "\n",
       "weight | price | \n",
       "|---|---|---|\n",
       "| FALSE | FALSE | \n",
       "| FALSE |  TRUE | \n",
       "|  TRUE | FALSE | \n",
       "\n",
       "\n"
      ],
      "text/plain": [
       "     weight price\n",
       "[1,] FALSE  FALSE\n",
       "[2,] FALSE   TRUE\n",
       "[3,]  TRUE  FALSE"
      ]
     },
     "metadata": {},
     "output_type": "display_data"
    }
   ],
   "source": [
    "# So what is I put in a df with NA in multiplke columns?\n",
    "df <- data.frame(weight = c(22,11,NA),price = c(10,NA,5))\n",
    "is.na(df)"
   ]
  },
  {
   "cell_type": "code",
   "execution_count": 20,
   "metadata": {
    "_uuid": "57f3b6ce40a7362fd28bd7feb650a42e5f4bb096"
   },
   "outputs": [
    {
     "data": {
      "text/html": [
       "<table>\n",
       "<thead><tr><th scope=col>weight</th><th scope=col>price</th></tr></thead>\n",
       "<tbody>\n",
       "\t<tr><td>22</td><td>10</td></tr>\n",
       "</tbody>\n",
       "</table>\n"
      ],
      "text/latex": [
       "\\begin{tabular}{r|ll}\n",
       " weight & price\\\\\n",
       "\\hline\n",
       "\t 22 & 10\\\\\n",
       "\\end{tabular}\n"
      ],
      "text/markdown": [
       "\n",
       "weight | price | \n",
       "|---|\n",
       "| 22 | 10 | \n",
       "\n",
       "\n"
      ],
      "text/plain": [
       "  weight price\n",
       "1 22     10   "
      ]
     },
     "metadata": {},
     "output_type": "display_data"
    }
   ],
   "source": [
    "# now give df without the NA's\n",
    "df <- data.frame(weight = c(22,11,NA),price = c(10,NA,5))\n",
    "na.omit(df)"
   ]
  },
  {
   "cell_type": "markdown",
   "metadata": {
    "_uuid": "0ebebbc29e77fdcd083146143c36fed290d401db"
   },
   "source": [
    "### Any()"
   ]
  },
  {
   "cell_type": "code",
   "execution_count": 21,
   "metadata": {
    "_uuid": "58a854221fc45944a30205f4b5c03ba725df6351"
   },
   "outputs": [
    {
     "data": {
      "text/html": [
       "TRUE"
      ],
      "text/latex": [
       "TRUE"
      ],
      "text/markdown": [
       "TRUE"
      ],
      "text/plain": [
       "[1] TRUE"
      ]
     },
     "metadata": {},
     "output_type": "display_data"
    },
    {
     "data": {
      "text/html": [
       "FALSE"
      ],
      "text/latex": [
       "FALSE"
      ],
      "text/markdown": [
       "FALSE"
      ],
      "text/plain": [
       "[1] FALSE"
      ]
     },
     "metadata": {},
     "output_type": "display_data"
    }
   ],
   "source": [
    "# is any value true in logical set\n",
    "a = c(1,3,5)\n",
    "any(a<5)\n",
    "any(a<0)"
   ]
  },
  {
   "cell_type": "markdown",
   "metadata": {
    "_uuid": "d52e54ec4845c7c2f5720719bcdd2380cfe66d06"
   },
   "source": [
    "### Which()"
   ]
  },
  {
   "cell_type": "code",
   "execution_count": 22,
   "metadata": {
    "_uuid": "6f3a082b15547c280650133cec267b70157cf75e"
   },
   "outputs": [
    {
     "data": {
      "text/html": [
       "<ol class=list-inline>\n",
       "\t<li>1</li>\n",
       "\t<li>2</li>\n",
       "</ol>\n"
      ],
      "text/latex": [
       "\\begin{enumerate*}\n",
       "\\item 1\n",
       "\\item 2\n",
       "\\end{enumerate*}\n"
      ],
      "text/markdown": [
       "1. 1\n",
       "2. 2\n",
       "\n",
       "\n"
      ],
      "text/plain": [
       "[1] 1 2"
      ]
     },
     "metadata": {},
     "output_type": "display_data"
    }
   ],
   "source": [
    "# The which() function will return the position of the elements in a logical vector which are TRUE\n",
    "a = c(1,3,5)\n",
    "which(a<5)"
   ]
  },
  {
   "cell_type": "markdown",
   "metadata": {
    "_uuid": "5f52b1c57f44bca45704e7d3ff3933f5886dda6f"
   },
   "source": [
    "# Dates"
   ]
  },
  {
   "cell_type": "code",
   "execution_count": 23,
   "metadata": {
    "_uuid": "1fbd6e1051845d4cad4336b683aed92723ffedfb"
   },
   "outputs": [
    {
     "name": "stdout",
     "output_type": "stream",
     "text": [
      "[1] \"2014-06-28 09:30:00 CEST\"\n",
      "[1] \"POSIXct\" \"POSIXt\" \n"
     ]
    }
   ],
   "source": [
    "# string to date\n",
    "mydate = '2014-06-28 09:30'\n",
    "mydate_local <- as.POSIXct(mydate,tz='Europe/Amsterdam')\n",
    "print(mydate_local)\n",
    "print(class(mydate_local))"
   ]
  },
  {
   "cell_type": "code",
   "execution_count": 24,
   "metadata": {
    "_uuid": "6ea5452997bc273a54d34d05967757137650ed17"
   },
   "outputs": [
    {
     "name": "stdout",
     "output_type": "stream",
     "text": [
      "[1] \"201406280930\"\n",
      "[1] \"201406280930\"\n"
     ]
    }
   ],
   "source": [
    "# format date\n",
    "mydate_local <- as.POSIXct('2014-06-28 09:30',tz='Europe/Amsterdam')\n",
    "a = mydate_local %>% strftime('%Y%m%d%H%M',tz = 'Europe/Amsterdam')\n",
    "b = strftime(mydate_local,format = '%Y%m%d%H%M',tz = 'Europe/Amsterdam')\n",
    "print(a)\n",
    "print(b)"
   ]
  },
  {
   "cell_type": "code",
   "execution_count": 25,
   "metadata": {
    "_uuid": "b02c5319e6d005df51ea1caebe9d4fb551ca3bab"
   },
   "outputs": [
    {
     "name": "stdout",
     "output_type": "stream",
     "text": [
      "[1] \"2014-06-28 07:30:00 UTC\"\n"
     ]
    }
   ],
   "source": [
    "# convert local to utc\n",
    "mydate_local <- as.POSIXct('2014-06-28 09:30',tz='Europe/Amsterdam')\n",
    "mydate_utc <- mydate_local %>% with_tz('UTC')\n",
    "print(mydate_utc)"
   ]
  },
  {
   "cell_type": "code",
   "execution_count": 26,
   "metadata": {
    "_uuid": "fe8dc2de5d9d4e14b54ea79d1cd2679a49d1af95"
   },
   "outputs": [
    {
     "data": {
      "text/plain": [
       "[1] \"2018-05-10 16:00:00 CEST\""
      ]
     },
     "metadata": {},
     "output_type": "display_data"
    },
    {
     "data": {
      "text/plain": [
       "[1] \"2018-05-10 16:00:00 CEST\""
      ]
     },
     "metadata": {},
     "output_type": "display_data"
    },
    {
     "name": "stdout",
     "output_type": "stream",
     "text": [
      "[1] \"POSIXlt\" \"POSIXt\" \n",
      "[1] \"POSIXct\" \"POSIXt\" \n"
     ]
    }
   ],
   "source": [
    "# string to datetime\n",
    "a = '201805101600'\n",
    "b = strptime(a,\"%Y%m%d%H%M\",tz='Europe/Amsterdam')\n",
    "c = as.POSIXct(b)\n",
    "b\n",
    "c\n",
    "print(class(b))\n",
    "print(class(c))"
   ]
  },
  {
   "cell_type": "markdown",
   "metadata": {
    "_uuid": "247b823a09a9e04ea12c1f1775159391f04aa2bd"
   },
   "source": [
    "https://www.r-bloggers.com/using-dates-and-times-in-r/\n",
    "\n",
    "http://rstudio-pubs-static.s3.amazonaws.com/7415_a5c3c312c0204d7fbd9131bef15ce724.html\n",
    "\n",
    "http://r4ds.had.co.nz/dates-and-times.html#time-zones"
   ]
  },
  {
   "cell_type": "code",
   "execution_count": 27,
   "metadata": {
    "_uuid": "c1d36f716696335a58aa0a80d832a66c3c60cd99"
   },
   "outputs": [
    {
     "data": {
      "text/plain": [
       "[1] \"2018-10-28 01:00:00 CEST\" \"2018-10-28 02:00:00 CEST\"\n",
       "[3] \"2018-10-28 02:00:00 CEST\" \"2018-10-28 03:00:00 CET\" "
      ]
     },
     "metadata": {},
     "output_type": "display_data"
    }
   ],
   "source": [
    "# check dst seems to go wrong\n",
    "a = c('2018-10-28 01:00','2018-10-28 02:00','2018-10-28 02:00','2018-10-28 03:00')\n",
    "b <- a %>% \n",
    "    as.POSIXct(tz='Europe/Amsterdam')\n",
    "b"
   ]
  },
  {
   "cell_type": "code",
   "execution_count": 28,
   "metadata": {
    "_uuid": "c5ce8af46d024963a125d1a28e45a0bbbe4afdb5"
   },
   "outputs": [
    {
     "data": {
      "text/plain": [
       "[1] \"2018-10-28 01:00:00 CEST\" \"2018-10-28 02:00:00 CET\" \n",
       "[3] \"2018-10-28 02:00:00 CET\"  \"2018-10-28 03:00:00 CET\" "
      ]
     },
     "metadata": {},
     "output_type": "display_data"
    }
   ],
   "source": [
    "# use other lubridate function seems to go wrong\n",
    "a = c('2018-10-28 01:00','2018-10-28 02:00','2018-10-28 02:00','2018-10-28 03:00')\n",
    "b = parse_date_time(a, '%Y%m%d%H%M', tz = 'Europe/Amsterdam')\n",
    "b"
   ]
  },
  {
   "cell_type": "code",
   "execution_count": 29,
   "metadata": {
    "_uuid": "0abe92fbfcd5ddb4544ff73fdfd599da34dd05bf"
   },
   "outputs": [
    {
     "data": {
      "text/plain": [
       "[1] \"2018-10-27 23:00:00 UTC\" \"2018-10-28 00:00:00 UTC\"\n",
       "[3] \"2018-10-28 01:00:00 UTC\" \"2018-10-28 02:00:00 UTC\"\n",
       "[5] \"2018-10-28 03:00:00 UTC\" \"2018-10-28 04:00:00 UTC\""
      ]
     },
     "metadata": {},
     "output_type": "display_data"
    },
    {
     "data": {
      "text/plain": [
       "[1] \"2018-10-28 01:00:00 CEST\" \"2018-10-28 02:00:00 CEST\"\n",
       "[3] \"2018-10-28 02:00:00 CET\"  \"2018-10-28 03:00:00 CET\" \n",
       "[5] \"2018-10-28 04:00:00 CET\"  \"2018-10-28 05:00:00 CET\" "
      ]
     },
     "metadata": {},
     "output_type": "display_data"
    }
   ],
   "source": [
    "# check dst from UTC to local\n",
    "a = c('2018-10-27 23:00','2018-10-28 00:00','2018-10-28 01:00','2018-10-28 02:00','2018-10-28 03:00','2018-10-28 04:00')\n",
    "b <- a %>% \n",
    "    as.POSIXct(tz='UTC')\n",
    "b\n",
    "\n",
    "c <-b %>% with_tz('Europe/Amsterdam')\n",
    "c"
   ]
  },
  {
   "cell_type": "code",
   "execution_count": 30,
   "metadata": {
    "_uuid": "495380678e44748d2276170dd7b3ae331e1f43f1"
   },
   "outputs": [
    {
     "data": {
      "text/plain": [
       "[1] \"2008-11-02 06:30:00 UTC\" \"2008-11-02 07:00:00 UTC\"\n",
       "[3] \"2008-11-02 07:30:00 UTC\""
      ]
     },
     "metadata": {},
     "output_type": "display_data"
    }
   ],
   "source": [
    "with_tz(ymd_hm(c(\"2008-11-02 01:30\", \"2008-11-02 02:00\", \"2008-11-02 02:30\"), tz = \"America/New_York\"), \"UTC\")"
   ]
  },
  {
   "cell_type": "code",
   "execution_count": 31,
   "metadata": {
    "_uuid": "0e3d592dd7400bfdd0b799eb42b56c0a074a129c"
   },
   "outputs": [
    {
     "data": {
      "text/plain": [
       "[1] \"2018-05-30 16:00:00 CEST\""
      ]
     },
     "metadata": {},
     "output_type": "display_data"
    },
    {
     "data": {
      "text/plain": [
       "[1] \"2018-05-30 16:00:30 CEST\""
      ]
     },
     "metadata": {},
     "output_type": "display_data"
    }
   ],
   "source": [
    "# handy function?\n",
    "ymd_hm('2018-05-30 16:00',tz='Europe/Amsterdam')\n",
    "ymd_hms('2018-05-30 16:00:30',tz='Europe/Amsterdam')"
   ]
  },
  {
   "cell_type": "code",
   "execution_count": 32,
   "metadata": {
    "_uuid": "fda011f02f1638d512d417c705347d2696011ac0"
   },
   "outputs": [
    {
     "name": "stdout",
     "output_type": "stream",
     "text": [
      "[1] \"2016-02-24\"\n",
      "[1] \"Date\"\n"
     ]
    }
   ],
   "source": [
    "# string to date\n",
    "a = as.Date('2016-02-24')\n",
    "print(a)\n",
    "print(class(a))"
   ]
  },
  {
   "cell_type": "code",
   "execution_count": 33,
   "metadata": {
    "_uuid": "236eeac629f8cb4d712a53c15453ad7be75bfccd"
   },
   "outputs": [
    {
     "name": "stdout",
     "output_type": "stream",
     "text": [
      "[1] \"20180623\"\n"
     ]
    }
   ],
   "source": [
    "# date to string\n",
    "print(format(today(),'%Y%m%d'))"
   ]
  },
  {
   "cell_type": "markdown",
   "metadata": {
    "_uuid": "18c909bee542d5fb840f6b8fd3719c01d0a2a238"
   },
   "source": [
    "# Strings"
   ]
  },
  {
   "cell_type": "code",
   "execution_count": 34,
   "metadata": {
    "_uuid": "bd7f57fa18184c5167a9c787f0ba3ccd4f85e649"
   },
   "outputs": [
    {
     "name": "stdout",
     "output_type": "stream",
     "text": [
      "[1] \"This store has 8 types of fruit\"\n"
     ]
    }
   ],
   "source": [
    "# sprintf\n",
    "numfruit = 8\n",
    "mystring = sprintf(\"This store has %s types of fruit\",numfruit)\n",
    "print(mystring)"
   ]
  },
  {
   "cell_type": "code",
   "execution_count": 35,
   "metadata": {
    "_uuid": "6dae6efb85e5f7d034e938dc1451627bc13d00ff"
   },
   "outputs": [
    {
     "name": "stdout",
     "output_type": "stream",
     "text": [
      "[1] \"SELECT * FROM employee WHERE name = 'Joe' AND age >= 55\"\n"
     ]
    }
   ],
   "source": [
    "# above trick used in writing query statements\n",
    "name = 'Joe'\n",
    "age = 55\n",
    "mystring = sprintf(\"SELECT * FROM employee WHERE name = '%s' AND age >= %s\", name,age)\n",
    "print(mystring)"
   ]
  },
  {
   "cell_type": "code",
   "execution_count": 36,
   "metadata": {
    "_uuid": "611cc593e2a4bbefadb8f5b224afc55024c190d6"
   },
   "outputs": [
    {
     "name": "stdout",
     "output_type": "stream",
     "text": [
      "[1] \"hoi dit is\"\n"
     ]
    }
   ],
   "source": [
    "# concatenate two string\n",
    "a = paste('hoi','dit','is',sep = ' ')\n",
    "print(a)"
   ]
  },
  {
   "cell_type": "code",
   "execution_count": 37,
   "metadata": {
    "_uuid": "5ba087fc37ef7aa5a0665168d20f61fd949cb19f"
   },
   "outputs": [
    {
     "name": "stdout",
     "output_type": "stream",
     "text": [
      "[1] \"inputdata_20180623.csv\"\n"
     ]
    }
   ],
   "source": [
    "# use sprintf\n",
    "mystring = 'inputdata_%s.csv'\n",
    "a = sprintf(mystring,format(today(),\"%Y%m%d\"))\n",
    "print(a)"
   ]
  },
  {
   "cell_type": "code",
   "execution_count": null,
   "metadata": {
    "_uuid": "d2335bf41272b783d6251249b80795ca75c4c4ee",
    "collapsed": true
   },
   "outputs": [],
   "source": []
  },
  {
   "cell_type": "code",
   "execution_count": null,
   "metadata": {
    "_uuid": "87172b1e682bd18975de37e68542b7d76ba3f256",
    "collapsed": true
   },
   "outputs": [],
   "source": []
  },
  {
   "cell_type": "code",
   "execution_count": null,
   "metadata": {
    "_uuid": "37ef3dbe1d55c11b453e5e17382778d5b0959ee2",
    "collapsed": true
   },
   "outputs": [],
   "source": []
  },
  {
   "cell_type": "code",
   "execution_count": null,
   "metadata": {
    "_uuid": "c4ab53118d7e3302e04c8ed9c57a6dc8a3ff5bb8",
    "collapsed": true
   },
   "outputs": [],
   "source": []
  },
  {
   "cell_type": "markdown",
   "metadata": {
    "_uuid": "1cb8e5273960693bbbfdacad3551a14c376d35ca"
   },
   "source": [
    "> # I/O"
   ]
  },
  {
   "cell_type": "code",
   "execution_count": 38,
   "metadata": {
    "_uuid": "545b45794dc6d3f849d9a0d56135565e6e44af13"
   },
   "outputs": [
    {
     "name": "stdout",
     "output_type": "stream",
     "text": [
      "[1] \"C:/Users/testadmin/Downloads/test.csv\"\n"
     ]
    }
   ],
   "source": [
    "# contruct path to read file\n",
    "a = file.path(getwd(),'test.csv')\n",
    "print(a)"
   ]
  },
  {
   "cell_type": "code",
   "execution_count": 39,
   "metadata": {
    "_uuid": "bbe95fb9e90fc32e75946c838e197e1ab0337518",
    "collapsed": true
   },
   "outputs": [],
   "source": [
    "# write df to csv\n",
    "df <- data.frame(name = c('apple','banana','orange'),price = c(10,6,5))\n",
    "write.csv(df,file='apple.csv',row.names=FALSE)"
   ]
  },
  {
   "cell_type": "code",
   "execution_count": 40,
   "metadata": {
    "_uuid": "6f92820557243cf601e39d0d4a6573f0a5ad5309"
   },
   "outputs": [
    {
     "data": {
      "text/html": [
       "<table>\n",
       "<thead><tr><th scope=col>name</th><th scope=col>price</th></tr></thead>\n",
       "<tbody>\n",
       "\t<tr><td>apple </td><td>10    </td></tr>\n",
       "\t<tr><td>banana</td><td> 6    </td></tr>\n",
       "\t<tr><td>orange</td><td> 5    </td></tr>\n",
       "</tbody>\n",
       "</table>\n"
      ],
      "text/latex": [
       "\\begin{tabular}{r|ll}\n",
       " name & price\\\\\n",
       "\\hline\n",
       "\t apple  & 10    \\\\\n",
       "\t banana &  6    \\\\\n",
       "\t orange &  5    \\\\\n",
       "\\end{tabular}\n"
      ],
      "text/markdown": [
       "\n",
       "name | price | \n",
       "|---|---|---|\n",
       "| apple  | 10     | \n",
       "| banana |  6     | \n",
       "| orange |  5     | \n",
       "\n",
       "\n"
      ],
      "text/plain": [
       "  name   price\n",
       "1 apple  10   \n",
       "2 banana  6   \n",
       "3 orange  5   "
      ]
     },
     "metadata": {},
     "output_type": "display_data"
    }
   ],
   "source": [
    "df_in = read.csv('apple.csv')\n",
    "df_in"
   ]
  },
  {
   "cell_type": "code",
   "execution_count": null,
   "metadata": {
    "_uuid": "7f588c111b7842fc82eefe1495c0e58d6f96bec6",
    "collapsed": true
   },
   "outputs": [],
   "source": []
  }
 ],
 "metadata": {
  "kernelspec": {
   "display_name": "R",
   "language": "R",
   "name": "ir"
  },
  "language_info": {
   "codemirror_mode": "r",
   "file_extension": ".r",
   "mimetype": "text/x-r-source",
   "name": "R",
   "pygments_lexer": "r",
   "version": "3.4.3"
  }
 },
 "nbformat": 4,
 "nbformat_minor": 1
}
