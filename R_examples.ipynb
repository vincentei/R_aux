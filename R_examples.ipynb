{
  "cells": [
    {
      "metadata": {
        "_uuid": "f7171bbb491528e81ae087ecd8fb77cc1ce1d98a",
        "_execution_state": "idle",
        "trusted": true,
        "_kg_hide-input": false
      },
      "cell_type": "code",
      "source": "# This R environment comes with all of CRAN preinstalled, as well as many other helpful packages\n# The environment is defined by the kaggle/rstats docker image: https://github.com/kaggle/docker-rstats\n# For example, here's several helpful packages to load in \n\nlibrary(ggplot2) # Data visualization\nlibrary(readr) # CSV file I/O, e.g. the read_csv function\nlibrary(lubridate)\nlibrary(magrittr)\nlibrary(dplyr)\n# Input data files are available in the \"../input/\" directory.\n# For example, running this (by clicking run or pressing Shift+Enter) will list the files in the input directory\n\nsystem(\"ls ../input\")\n\n# Any results you write to the current directory are saved as output.",
      "execution_count": null,
      "outputs": []
    },
    {
      "metadata": {
        "_uuid": "58c36d557ce264d665c418ad389de5a04ae36f3a"
      },
      "cell_type": "markdown",
      "source": "# Vector"
    },
    {
      "metadata": {
        "trusted": true,
        "_uuid": "0a1460ea6be61093b20cdabd66274813242af792"
      },
      "cell_type": "code",
      "source": "# create vector\nprice = c(10,6,5)\nprint(price)\nprint(class(price))",
      "execution_count": null,
      "outputs": []
    },
    {
      "metadata": {
        "trusted": true,
        "_uuid": "e4256fc0f972698cd7097ec4a716f3af1ecc62d8"
      },
      "cell_type": "code",
      "source": "# vector with strings\nname = c('apple','banana','orange')\nprint(name)\nprint(class(name))",
      "execution_count": null,
      "outputs": []
    },
    {
      "metadata": {
        "_uuid": "bbe94d8e20fa053e5887aa17a3edea336e8aa504"
      },
      "cell_type": "markdown",
      "source": "# List"
    },
    {
      "metadata": {
        "trusted": true,
        "_uuid": "4d55eb54c0c00cd56da51672e133111a6639565d"
      },
      "cell_type": "code",
      "source": "# defining a list\na = list(c(5,3,8))\nprint(a)\nprint(class(a))",
      "execution_count": null,
      "outputs": []
    },
    {
      "metadata": {
        "trusted": true,
        "_uuid": "5587d2657dd253567a19fd792212ab402963599c"
      },
      "cell_type": "code",
      "source": "a = list(c(1,3,4))\na[[1]][3]",
      "execution_count": null,
      "outputs": []
    },
    {
      "metadata": {
        "trusted": true,
        "_uuid": "fe572c6241f1460ab866d4429a122a217a5443af"
      },
      "cell_type": "code",
      "source": "# some kind of dictionary\na = list('apple' = 22,\n        'orange' = 42)\na[['apple']]",
      "execution_count": null,
      "outputs": []
    },
    {
      "metadata": {
        "trusted": true,
        "_uuid": "48b1af3d1f5ed082380d61e28e7bae194dd4ffad"
      },
      "cell_type": "code",
      "source": "# some kind of dictionary\ncfg.MODEL <- list(\n    '1' = list('in.w'='w', 'in.lags'=c(1, 2, 7, 14, 21)),\n    '2' = list('in.w'='w', 'in.lags'=c(2, 3, 7, 14, 21)),\n    '99' = list('in.w'='no.w', 'in.lags'=c(3, 4, 7, 14, 21)))",
      "execution_count": null,
      "outputs": []
    },
    {
      "metadata": {
        "trusted": true,
        "_uuid": "a01818b5a2a430060d05f9d47a0f20d65bf668ce"
      },
      "cell_type": "code",
      "source": "# accessing the data\ncfg.MODEL[['99']]$in.w\ncfg.MODEL[['99']]$in.lags",
      "execution_count": null,
      "outputs": []
    },
    {
      "metadata": {
        "trusted": true,
        "_uuid": "45e616d405b4414f8c7914397dd879bfdc0b5a46"
      },
      "cell_type": "code",
      "source": "# accessing element of a list\na = list(c(3,4,9),c(9,77),c('hoi','soep'))\na[[1]][1]\na[[2]][1]\na[[3]][2]",
      "execution_count": null,
      "outputs": []
    },
    {
      "metadata": {
        "_uuid": "411ef362f0aa265be6245a6c1cfe7ff96bc84da5"
      },
      "cell_type": "markdown",
      "source": "# Dataframe"
    },
    {
      "metadata": {
        "trusted": true,
        "_uuid": "962725141c8129e0caa5226386d50875304664b8"
      },
      "cell_type": "code",
      "source": "# create df from vectors\nname = c('apple','banana','orange')\nprice = c(10,6,5)\ndf <- data.frame(name = name,price = price)\ndf",
      "execution_count": null,
      "outputs": []
    },
    {
      "metadata": {
        "trusted": true,
        "_uuid": "c2e2ea34a5066da604a98f03dea775076690e166"
      },
      "cell_type": "code",
      "source": "# get columns names of df\ndf <- data.frame(name = c('apple','banana','orange'),price = c(10,6,5))\nnames(df)",
      "execution_count": null,
      "outputs": []
    },
    {
      "metadata": {
        "trusted": true,
        "_uuid": "e43f7d870487e41be4cbd0920f6352f060246863"
      },
      "cell_type": "code",
      "source": "# rename columns\ndf <- data.frame(name = c('apple','banana','orange'),price = c(10,6,5))\nnames(df) <- c(\"name2\", \"price2\")\ndf",
      "execution_count": null,
      "outputs": []
    },
    {
      "metadata": {
        "trusted": true,
        "_uuid": "6cf8ea28f8cd3e863de782b44834b08c90e1b69e"
      },
      "cell_type": "code",
      "source": "# remove some columns\ndf <- data.frame(name = c('apple','banana','orange'),price = c(10,6,5))\ndf<- subset(df,select=-c(price))\ndf",
      "execution_count": null,
      "outputs": []
    },
    {
      "metadata": {
        "_uuid": "137293668171b99ffbc8c2270c245691d4b011d3"
      },
      "cell_type": "markdown",
      "source": "## Filter"
    },
    {
      "metadata": {
        "_uuid": "49508470451938a2b4f2a3dcde5f2cd301588fde"
      },
      "cell_type": "markdown",
      "source": "The filter() function can be used similarly to subset() to select a set of rows from an original data.frame according to some conditioning statement. As with subset(), filter() returns an object that maintains a list of the original levels whether those levels exist in the new data.frame or not. Use droplevels() to restrict the levels to only those that exist in the data.frame\n\n Use filter() find rows/cases where conditions are true. \n Unlike base subsetting with [, rows where the condition evaluates to NA are dropped."
    },
    {
      "metadata": {
        "trusted": true,
        "_uuid": "4df941e8c2c13927e469b36b18d5141454996989"
      },
      "cell_type": "code",
      "source": "# give rows where price is below 10 (CTRL + SHIFT + M)\ndf <- data.frame(name = c('apple','banana','orange'),price = c(10,6,5))\na <-df %>% filter(price < 10 & name != 'orange')\na",
      "execution_count": null,
      "outputs": []
    },
    {
      "metadata": {
        "trusted": true,
        "_uuid": "5645e21664dd9885d88a30c024c8768322251203"
      },
      "cell_type": "code",
      "source": "# alternative would be\ndf <- data.frame(name = c('apple','banana','orange'),price = c(10,6,5))\nidx = df$price < 10 & df$name != 'orange'\na = df[idx,]\na",
      "execution_count": null,
      "outputs": []
    },
    {
      "metadata": {
        "_uuid": "37056e379f82e6e07687b6a0b008fd6fec48a9f1"
      },
      "cell_type": "markdown",
      "source": "## Other functions"
    },
    {
      "metadata": {
        "_uuid": "5b5400226340af89bf9f6678d916eadcef80d301"
      },
      "cell_type": "markdown",
      "source": "### is.na()"
    },
    {
      "metadata": {
        "trusted": true,
        "_uuid": "59b7dd571d6ab9b6ea15efda17350a5aaa7cfa74"
      },
      "cell_type": "code",
      "source": "# check for NA's in vector\na <- c(2,NA,4)\nis.na(a)",
      "execution_count": null,
      "outputs": []
    },
    {
      "metadata": {
        "trusted": true,
        "_uuid": "e926c46feb6c063f8290e255f5c62e539098b628"
      },
      "cell_type": "code",
      "source": "# So what is I put in a df with NA in multiplke columns?\ndf <- data.frame(weight = c(22,11,NA),price = c(10,NA,5))\nis.na(df)",
      "execution_count": null,
      "outputs": []
    },
    {
      "metadata": {
        "trusted": true,
        "_uuid": "57f3b6ce40a7362fd28bd7feb650a42e5f4bb096"
      },
      "cell_type": "code",
      "source": "# now give df without the NA's\ndf <- data.frame(weight = c(22,11,NA),price = c(10,NA,5))\nna.omit(df)",
      "execution_count": null,
      "outputs": []
    },
    {
      "metadata": {
        "_uuid": "0ebebbc29e77fdcd083146143c36fed290d401db"
      },
      "cell_type": "markdown",
      "source": "### Any()"
    },
    {
      "metadata": {
        "trusted": true,
        "_uuid": "58a854221fc45944a30205f4b5c03ba725df6351"
      },
      "cell_type": "code",
      "source": "# is any value true in logical set\na = c(1,3,5)\nany(a<5)\nany(a<0)",
      "execution_count": null,
      "outputs": []
    },
    {
      "metadata": {
        "_uuid": "d52e54ec4845c7c2f5720719bcdd2380cfe66d06"
      },
      "cell_type": "markdown",
      "source": "### Which()"
    },
    {
      "metadata": {
        "trusted": true,
        "_uuid": "6f3a082b15547c280650133cec267b70157cf75e"
      },
      "cell_type": "code",
      "source": "# The which() function will return the position of the elements in a logical vector which are TRUE\na = c(1,3,5)\nwhich(a<5)",
      "execution_count": null,
      "outputs": []
    },
    {
      "metadata": {
        "_uuid": "5f52b1c57f44bca45704e7d3ff3933f5886dda6f"
      },
      "cell_type": "markdown",
      "source": "# Dates"
    },
    {
      "metadata": {
        "trusted": true,
        "_uuid": "1fbd6e1051845d4cad4336b683aed92723ffedfb"
      },
      "cell_type": "code",
      "source": "# string to date\nmydate = '2014-06-28 09:30'\nmydate_local <- as.POSIXct(mydate,tz='Europe/Amsterdam')\nprint(mydate_local)\nprint(class(mydate_local))",
      "execution_count": null,
      "outputs": []
    },
    {
      "metadata": {
        "trusted": true,
        "_uuid": "6ea5452997bc273a54d34d05967757137650ed17"
      },
      "cell_type": "code",
      "source": "# format date\nmydate_local <- as.POSIXct('2014-06-28 09:30',tz='Europe/Amsterdam')\na = mydate_local %>% strftime('%Y%m%d%H%M',tz = 'Europe/Amsterdam')\nb = strftime(mydate_local,format = '%Y%m%d%H%M',tz = 'Europe/Amsterdam')\nprint(a)\nprint(b)",
      "execution_count": null,
      "outputs": []
    },
    {
      "metadata": {
        "trusted": true,
        "_uuid": "b02c5319e6d005df51ea1caebe9d4fb551ca3bab"
      },
      "cell_type": "code",
      "source": "# convert local to utc\nmydate_local <- as.POSIXct('2014-06-28 09:30',tz='Europe/Amsterdam')\nmydate_utc <- mydate_local %>% with_tz('UTC')\nprint(mydate_utc)",
      "execution_count": null,
      "outputs": []
    },
    {
      "metadata": {
        "trusted": true,
        "_uuid": "fe8dc2de5d9d4e14b54ea79d1cd2679a49d1af95"
      },
      "cell_type": "code",
      "source": "# string to datetime\na = '201805101600'\nb = strptime(a,\"%Y%m%d%H%M\",tz='Europe/Amsterdam')\nc = as.POSIXct(b)\nb\nc\nprint(class(b))\nprint(class(c))",
      "execution_count": null,
      "outputs": []
    },
    {
      "metadata": {
        "_uuid": "247b823a09a9e04ea12c1f1775159391f04aa2bd"
      },
      "cell_type": "markdown",
      "source": "https://www.r-bloggers.com/using-dates-and-times-in-r/\n\nhttp://rstudio-pubs-static.s3.amazonaws.com/7415_a5c3c312c0204d7fbd9131bef15ce724.html\n\nhttp://r4ds.had.co.nz/dates-and-times.html#time-zones"
    },
    {
      "metadata": {
        "trusted": true,
        "_uuid": "c1d36f716696335a58aa0a80d832a66c3c60cd99"
      },
      "cell_type": "code",
      "source": "# check dst seems to go wrong\na = c('2018-10-28 01:00','2018-10-28 02:00','2018-10-28 02:00','2018-10-28 03:00')\nb <- a %>% \n    as.POSIXct(tz='Europe/Amsterdam')\nb",
      "execution_count": null,
      "outputs": []
    },
    {
      "metadata": {
        "trusted": true,
        "_uuid": "c5ce8af46d024963a125d1a28e45a0bbbe4afdb5"
      },
      "cell_type": "code",
      "source": "# use other lubridate function seems to go wrong\na = c('2018-10-28 01:00','2018-10-28 02:00','2018-10-28 02:00','2018-10-28 03:00')\nb = parse_date_time(a, '%Y%m%d%H%M', tz = 'Europe/Amsterdam')\nb",
      "execution_count": null,
      "outputs": []
    },
    {
      "metadata": {
        "trusted": true,
        "_uuid": "0abe92fbfcd5ddb4544ff73fdfd599da34dd05bf"
      },
      "cell_type": "code",
      "source": "# check dst from UTC to local\na = c('2018-10-27 23:00','2018-10-28 00:00','2018-10-28 01:00','2018-10-28 02:00','2018-10-28 03:00','2018-10-28 04:00')\nb <- a %>% \n    as.POSIXct(tz='UTC')\nb\n\nc <-b %>% with_tz('Europe/Amsterdam')\nc",
      "execution_count": null,
      "outputs": []
    },
    {
      "metadata": {
        "trusted": true,
        "_uuid": "495380678e44748d2276170dd7b3ae331e1f43f1"
      },
      "cell_type": "code",
      "source": "with_tz(ymd_hm(c(\"2008-11-02 01:30\", \"2008-11-02 02:00\", \"2008-11-02 02:30\"), tz = \"America/New_York\"), \"UTC\")",
      "execution_count": null,
      "outputs": []
    },
    {
      "metadata": {
        "trusted": true,
        "_uuid": "0e3d592dd7400bfdd0b799eb42b56c0a074a129c"
      },
      "cell_type": "code",
      "source": "# handy function?\nymd_hm('2018-05-30 16:00',tz='Europe/Amsterdam')\nymd_hms('2018-05-30 16:00:30',tz='Europe/Amsterdam')",
      "execution_count": null,
      "outputs": []
    },
    {
      "metadata": {
        "trusted": true,
        "_uuid": "fda011f02f1638d512d417c705347d2696011ac0"
      },
      "cell_type": "code",
      "source": "# string to date\na = as.Date('2016-02-24')\nprint(a)\nprint(class(a))",
      "execution_count": null,
      "outputs": []
    },
    {
      "metadata": {
        "trusted": true,
        "_uuid": "236eeac629f8cb4d712a53c15453ad7be75bfccd"
      },
      "cell_type": "code",
      "source": "# date to string\nprint(format(today(),'%Y%m%d'))",
      "execution_count": null,
      "outputs": []
    },
    {
      "metadata": {
        "_uuid": "18c909bee542d5fb840f6b8fd3719c01d0a2a238"
      },
      "cell_type": "markdown",
      "source": "# Strings"
    },
    {
      "metadata": {
        "trusted": true,
        "_uuid": "bd7f57fa18184c5167a9c787f0ba3ccd4f85e649"
      },
      "cell_type": "code",
      "source": "# sprintf\nnumfruit = 8\nmystring = sprintf(\"This store has %s types of fruit\",numfruit)\nprint(mystring)",
      "execution_count": null,
      "outputs": []
    },
    {
      "metadata": {
        "trusted": true,
        "_uuid": "6dae6efb85e5f7d034e938dc1451627bc13d00ff"
      },
      "cell_type": "code",
      "source": "# above trick used in writing query statements\nname = 'Joe'\nage = 55\nmystring = sprintf(\"SELECT * FROM employee WHERE name = '%s' AND age >= %s\", name,age)\nprint(mystring)",
      "execution_count": null,
      "outputs": []
    },
    {
      "metadata": {
        "trusted": true,
        "_uuid": "611cc593e2a4bbefadb8f5b224afc55024c190d6"
      },
      "cell_type": "code",
      "source": "# concatenate two string\na = paste('hoi','dit','is',sep = ' ')\nprint(a)",
      "execution_count": null,
      "outputs": []
    },
    {
      "metadata": {
        "trusted": true,
        "_uuid": "5ba087fc37ef7aa5a0665168d20f61fd949cb19f"
      },
      "cell_type": "code",
      "source": "# use sprintf\nmystring = 'inputdata_%s.csv'\na = sprintf(mystring,format(today(),\"%Y%m%d\"))\nprint(a)",
      "execution_count": null,
      "outputs": []
    },
    {
      "metadata": {
        "trusted": true,
        "_uuid": "d2335bf41272b783d6251249b80795ca75c4c4ee"
      },
      "cell_type": "code",
      "source": "",
      "execution_count": null,
      "outputs": []
    },
    {
      "metadata": {
        "trusted": true,
        "_uuid": "87172b1e682bd18975de37e68542b7d76ba3f256"
      },
      "cell_type": "code",
      "source": "",
      "execution_count": null,
      "outputs": []
    },
    {
      "metadata": {
        "trusted": true,
        "_uuid": "37ef3dbe1d55c11b453e5e17382778d5b0959ee2"
      },
      "cell_type": "code",
      "source": "",
      "execution_count": null,
      "outputs": []
    },
    {
      "metadata": {
        "trusted": true,
        "_uuid": "c4ab53118d7e3302e04c8ed9c57a6dc8a3ff5bb8"
      },
      "cell_type": "code",
      "source": "",
      "execution_count": null,
      "outputs": []
    },
    {
      "metadata": {
        "_uuid": "1cb8e5273960693bbbfdacad3551a14c376d35ca"
      },
      "cell_type": "markdown",
      "source": "> # I/O"
    },
    {
      "metadata": {
        "trusted": true,
        "_uuid": "545b45794dc6d3f849d9a0d56135565e6e44af13"
      },
      "cell_type": "code",
      "source": "# contruct path to read file\na = file.path(getwd(),'test.csv')\nprint(a)",
      "execution_count": null,
      "outputs": []
    },
    {
      "metadata": {
        "trusted": true,
        "_uuid": "bbe95fb9e90fc32e75946c838e197e1ab0337518"
      },
      "cell_type": "code",
      "source": "# write df to csv\ndf <- data.frame(name = c('apple','banana','orange'),price = c(10,6,5))\nwrite.csv(df,file='apple.csv',row.names=FALSE)",
      "execution_count": null,
      "outputs": []
    },
    {
      "metadata": {
        "trusted": true,
        "_uuid": "6f92820557243cf601e39d0d4a6573f0a5ad5309"
      },
      "cell_type": "code",
      "source": "df_in = read.csv('apple.csv')\ndf_in",
      "execution_count": null,
      "outputs": []
    },
    {
      "metadata": {
        "trusted": true,
        "_uuid": "7f588c111b7842fc82eefe1495c0e58d6f96bec6"
      },
      "cell_type": "code",
      "source": "",
      "execution_count": null,
      "outputs": []
    }
  ],
  "metadata": {
    "kernelspec": {
      "display_name": "R",
      "language": "R",
      "name": "ir"
    },
    "language_info": {
      "mimetype": "text/x-r-source",
      "name": "R",
      "pygments_lexer": "r",
      "version": "3.4.2",
      "file_extension": ".r",
      "codemirror_mode": "r"
    }
  },
  "nbformat": 4,
  "nbformat_minor": 1
}